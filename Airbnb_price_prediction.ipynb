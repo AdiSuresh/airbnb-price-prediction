{
 "cells": [
  {
   "cell_type": "code",
   "execution_count": 1,
   "metadata": {},
   "outputs": [],
   "source": [
    "import pandas as pd"
   ]
  },
  {
   "cell_type": "code",
   "execution_count": 2,
   "metadata": {},
   "outputs": [
    {
     "name": "stderr",
     "output_type": "stream",
     "text": [
      "C:\\ProgramData\\Anaconda3\\lib\\site-packages\\IPython\\core\\interactiveshell.py:3145: DtypeWarning: Columns (61,62,94,95) have mixed types.Specify dtype option on import or set low_memory=False.\n",
      "  has_raised = await self.run_ast_nodes(code_ast.body, cell_name,\n"
     ]
    }
   ],
   "source": [
    "df = pd.read_csv(\"C:/Users/ADITHYA SURESH/Datasets/listings.csv.gz\", compression='gzip')"
   ]
  },
  {
   "cell_type": "code",
   "execution_count": 3,
   "metadata": {},
   "outputs": [
    {
     "data": {
      "text/html": [
       "<div>\n",
       "<style scoped>\n",
       "    .dataframe tbody tr th:only-of-type {\n",
       "        vertical-align: middle;\n",
       "    }\n",
       "\n",
       "    .dataframe tbody tr th {\n",
       "        vertical-align: top;\n",
       "    }\n",
       "\n",
       "    .dataframe thead th {\n",
       "        text-align: right;\n",
       "    }\n",
       "</style>\n",
       "<table border=\"1\" class=\"dataframe\">\n",
       "  <thead>\n",
       "    <tr style=\"text-align: right;\">\n",
       "      <th></th>\n",
       "      <th>id</th>\n",
       "      <th>listing_url</th>\n",
       "      <th>scrape_id</th>\n",
       "      <th>last_scraped</th>\n",
       "      <th>name</th>\n",
       "      <th>summary</th>\n",
       "      <th>space</th>\n",
       "      <th>description</th>\n",
       "      <th>experiences_offered</th>\n",
       "      <th>neighborhood_overview</th>\n",
       "      <th>...</th>\n",
       "      <th>instant_bookable</th>\n",
       "      <th>is_business_travel_ready</th>\n",
       "      <th>cancellation_policy</th>\n",
       "      <th>require_guest_profile_picture</th>\n",
       "      <th>require_guest_phone_verification</th>\n",
       "      <th>calculated_host_listings_count</th>\n",
       "      <th>calculated_host_listings_count_entire_homes</th>\n",
       "      <th>calculated_host_listings_count_private_rooms</th>\n",
       "      <th>calculated_host_listings_count_shared_rooms</th>\n",
       "      <th>reviews_per_month</th>\n",
       "    </tr>\n",
       "  </thead>\n",
       "  <tbody>\n",
       "    <tr>\n",
       "      <th>0</th>\n",
       "      <td>13913</td>\n",
       "      <td>https://www.airbnb.com/rooms/13913</td>\n",
       "      <td>20190809063821</td>\n",
       "      <td>2019-08-10</td>\n",
       "      <td>Holiday London DB Room Let-on going</td>\n",
       "      <td>My bright double bedroom with a large window h...</td>\n",
       "      <td>Hello Everyone, I'm offering my lovely double ...</td>\n",
       "      <td>My bright double bedroom with a large window h...</td>\n",
       "      <td>business</td>\n",
       "      <td>Finsbury Park is a friendly melting pot commun...</td>\n",
       "      <td>...</td>\n",
       "      <td>f</td>\n",
       "      <td>f</td>\n",
       "      <td>moderate</td>\n",
       "      <td>f</td>\n",
       "      <td>f</td>\n",
       "      <td>3</td>\n",
       "      <td>1</td>\n",
       "      <td>2</td>\n",
       "      <td>0</td>\n",
       "      <td>0.15</td>\n",
       "    </tr>\n",
       "    <tr>\n",
       "      <th>1</th>\n",
       "      <td>15400</td>\n",
       "      <td>https://www.airbnb.com/rooms/15400</td>\n",
       "      <td>20190809063821</td>\n",
       "      <td>2019-09-13</td>\n",
       "      <td>Bright Chelsea  Apartment. Chelsea!</td>\n",
       "      <td>Lots of windows and light.  St Luke's Gardens ...</td>\n",
       "      <td>Bright Chelsea Apartment  This is a bright one...</td>\n",
       "      <td>Lots of windows and light.  St Luke's Gardens ...</td>\n",
       "      <td>romantic</td>\n",
       "      <td>It is Chelsea.</td>\n",
       "      <td>...</td>\n",
       "      <td>t</td>\n",
       "      <td>f</td>\n",
       "      <td>strict_14_with_grace_period</td>\n",
       "      <td>t</td>\n",
       "      <td>t</td>\n",
       "      <td>1</td>\n",
       "      <td>1</td>\n",
       "      <td>0</td>\n",
       "      <td>0</td>\n",
       "      <td>0.73</td>\n",
       "    </tr>\n",
       "    <tr>\n",
       "      <th>2</th>\n",
       "      <td>17402</td>\n",
       "      <td>https://www.airbnb.com/rooms/17402</td>\n",
       "      <td>20190809063821</td>\n",
       "      <td>2019-08-10</td>\n",
       "      <td>Superb 3-Bed/2 Bath &amp; Wifi: Trendy W1</td>\n",
       "      <td>Open from June 2018 after a 3-year break, we a...</td>\n",
       "      <td>Ready again from June 2018 for bookings after ...</td>\n",
       "      <td>Open from June 2018 after a 3-year break, we a...</td>\n",
       "      <td>none</td>\n",
       "      <td>Location, location, location! You won't find b...</td>\n",
       "      <td>...</td>\n",
       "      <td>t</td>\n",
       "      <td>f</td>\n",
       "      <td>strict_14_with_grace_period</td>\n",
       "      <td>f</td>\n",
       "      <td>f</td>\n",
       "      <td>15</td>\n",
       "      <td>15</td>\n",
       "      <td>0</td>\n",
       "      <td>0</td>\n",
       "      <td>0.40</td>\n",
       "    </tr>\n",
       "    <tr>\n",
       "      <th>3</th>\n",
       "      <td>24328</td>\n",
       "      <td>https://www.airbnb.com/rooms/24328</td>\n",
       "      <td>20190809063821</td>\n",
       "      <td>2019-08-10</td>\n",
       "      <td>Battersea bedroom &amp; office w parking shared ga...</td>\n",
       "      <td>Artist house, bright high ceiling rooms, priva...</td>\n",
       "      <td>- End of terrace two bedroom house close to So...</td>\n",
       "      <td>Artist house, bright high ceiling rooms, priva...</td>\n",
       "      <td>family</td>\n",
       "      <td>- Battersea is a quiet family area, easy acces...</td>\n",
       "      <td>...</td>\n",
       "      <td>f</td>\n",
       "      <td>f</td>\n",
       "      <td>moderate</td>\n",
       "      <td>t</td>\n",
       "      <td>t</td>\n",
       "      <td>1</td>\n",
       "      <td>1</td>\n",
       "      <td>0</td>\n",
       "      <td>0</td>\n",
       "      <td>0.87</td>\n",
       "    </tr>\n",
       "    <tr>\n",
       "      <th>4</th>\n",
       "      <td>25023</td>\n",
       "      <td>https://www.airbnb.com/rooms/25023</td>\n",
       "      <td>20190809063821</td>\n",
       "      <td>2019-08-10</td>\n",
       "      <td>All-comforts 2-bed flat near Wimbledon tennis</td>\n",
       "      <td>Large, all comforts, 2-bed flat; first floor; ...</td>\n",
       "      <td>10 mins walk to Southfields tube and Wimbledon...</td>\n",
       "      <td>Large, all comforts, 2-bed flat; first floor; ...</td>\n",
       "      <td>none</td>\n",
       "      <td>This is a leafy residential area with excellen...</td>\n",
       "      <td>...</td>\n",
       "      <td>f</td>\n",
       "      <td>f</td>\n",
       "      <td>moderate</td>\n",
       "      <td>f</td>\n",
       "      <td>f</td>\n",
       "      <td>1</td>\n",
       "      <td>1</td>\n",
       "      <td>0</td>\n",
       "      <td>0</td>\n",
       "      <td>0.74</td>\n",
       "    </tr>\n",
       "  </tbody>\n",
       "</table>\n",
       "<p>5 rows × 106 columns</p>\n",
       "</div>"
      ],
      "text/plain": [
       "      id                         listing_url       scrape_id last_scraped  \\\n",
       "0  13913  https://www.airbnb.com/rooms/13913  20190809063821   2019-08-10   \n",
       "1  15400  https://www.airbnb.com/rooms/15400  20190809063821   2019-09-13   \n",
       "2  17402  https://www.airbnb.com/rooms/17402  20190809063821   2019-08-10   \n",
       "3  24328  https://www.airbnb.com/rooms/24328  20190809063821   2019-08-10   \n",
       "4  25023  https://www.airbnb.com/rooms/25023  20190809063821   2019-08-10   \n",
       "\n",
       "                                                name  \\\n",
       "0                Holiday London DB Room Let-on going   \n",
       "1                Bright Chelsea  Apartment. Chelsea!   \n",
       "2              Superb 3-Bed/2 Bath & Wifi: Trendy W1   \n",
       "3  Battersea bedroom & office w parking shared ga...   \n",
       "4      All-comforts 2-bed flat near Wimbledon tennis   \n",
       "\n",
       "                                             summary  \\\n",
       "0  My bright double bedroom with a large window h...   \n",
       "1  Lots of windows and light.  St Luke's Gardens ...   \n",
       "2  Open from June 2018 after a 3-year break, we a...   \n",
       "3  Artist house, bright high ceiling rooms, priva...   \n",
       "4  Large, all comforts, 2-bed flat; first floor; ...   \n",
       "\n",
       "                                               space  \\\n",
       "0  Hello Everyone, I'm offering my lovely double ...   \n",
       "1  Bright Chelsea Apartment  This is a bright one...   \n",
       "2  Ready again from June 2018 for bookings after ...   \n",
       "3  - End of terrace two bedroom house close to So...   \n",
       "4  10 mins walk to Southfields tube and Wimbledon...   \n",
       "\n",
       "                                         description experiences_offered  \\\n",
       "0  My bright double bedroom with a large window h...            business   \n",
       "1  Lots of windows and light.  St Luke's Gardens ...            romantic   \n",
       "2  Open from June 2018 after a 3-year break, we a...                none   \n",
       "3  Artist house, bright high ceiling rooms, priva...              family   \n",
       "4  Large, all comforts, 2-bed flat; first floor; ...                none   \n",
       "\n",
       "                               neighborhood_overview  ... instant_bookable  \\\n",
       "0  Finsbury Park is a friendly melting pot commun...  ...                f   \n",
       "1                                     It is Chelsea.  ...                t   \n",
       "2  Location, location, location! You won't find b...  ...                t   \n",
       "3  - Battersea is a quiet family area, easy acces...  ...                f   \n",
       "4  This is a leafy residential area with excellen...  ...                f   \n",
       "\n",
       "  is_business_travel_ready          cancellation_policy  \\\n",
       "0                        f                     moderate   \n",
       "1                        f  strict_14_with_grace_period   \n",
       "2                        f  strict_14_with_grace_period   \n",
       "3                        f                     moderate   \n",
       "4                        f                     moderate   \n",
       "\n",
       "  require_guest_profile_picture require_guest_phone_verification  \\\n",
       "0                             f                                f   \n",
       "1                             t                                t   \n",
       "2                             f                                f   \n",
       "3                             t                                t   \n",
       "4                             f                                f   \n",
       "\n",
       "   calculated_host_listings_count  \\\n",
       "0                               3   \n",
       "1                               1   \n",
       "2                              15   \n",
       "3                               1   \n",
       "4                               1   \n",
       "\n",
       "   calculated_host_listings_count_entire_homes  \\\n",
       "0                                            1   \n",
       "1                                            1   \n",
       "2                                           15   \n",
       "3                                            1   \n",
       "4                                            1   \n",
       "\n",
       "  calculated_host_listings_count_private_rooms  \\\n",
       "0                                            2   \n",
       "1                                            0   \n",
       "2                                            0   \n",
       "3                                            0   \n",
       "4                                            0   \n",
       "\n",
       "   calculated_host_listings_count_shared_rooms  reviews_per_month  \n",
       "0                                            0               0.15  \n",
       "1                                            0               0.73  \n",
       "2                                            0               0.40  \n",
       "3                                            0               0.87  \n",
       "4                                            0               0.74  \n",
       "\n",
       "[5 rows x 106 columns]"
      ]
     },
     "execution_count": 3,
     "metadata": {},
     "output_type": "execute_result"
    }
   ],
   "source": [
    "df.head()"
   ]
  },
  {
   "cell_type": "code",
   "execution_count": 4,
   "metadata": {},
   "outputs": [
    {
     "data": {
      "text/plain": [
       "id                                               0.000000\n",
       "listing_url                                      0.000000\n",
       "scrape_id                                        0.000000\n",
       "last_scraped                                     0.000000\n",
       "name                                             0.030271\n",
       "                                                  ...    \n",
       "calculated_host_listings_count                   0.000000\n",
       "calculated_host_listings_count_entire_homes      0.000000\n",
       "calculated_host_listings_count_private_rooms     0.000000\n",
       "calculated_host_listings_count_shared_rooms      0.000000\n",
       "reviews_per_month                               34.555933\n",
       "Length: 106, dtype: float64"
      ]
     },
     "execution_count": 4,
     "metadata": {},
     "output_type": "execute_result"
    }
   ],
   "source": [
    "(df.isnull().sum()/df.count())*100"
   ]
  },
  {
   "cell_type": "code",
   "execution_count": 5,
   "metadata": {},
   "outputs": [
    {
     "name": "stdout",
     "output_type": "stream",
     "text": [
      "There are 85918 records in the DF\n"
     ]
    }
   ],
   "source": [
    "no_of_records = len(df)\n",
    "print(f\"There are {no_of_records} records in the DF\")"
   ]
  },
  {
   "cell_type": "code",
   "execution_count": 6,
   "metadata": {},
   "outputs": [
    {
     "data": {
      "text/plain": [
       "(85918, 106)"
      ]
     },
     "execution_count": 6,
     "metadata": {},
     "output_type": "execute_result"
    }
   ],
   "source": [
    "df.shape"
   ]
  },
  {
   "cell_type": "code",
   "execution_count": 7,
   "metadata": {},
   "outputs": [
    {
     "name": "stdout",
     "output_type": "stream",
     "text": [
      "id\n",
      "null value count = 0 (0.0%)\n",
      "\n",
      "listing_url\n",
      "null value count = 0 (0.0%)\n",
      "\n",
      "scrape_id\n",
      "null value count = 0 (0.0%)\n",
      "\n",
      "last_scraped\n",
      "null value count = 0 (0.0%)\n",
      "\n",
      "name\n",
      "null value count = 26 (0.030261412044041994%)\n",
      "\n",
      "summary\n",
      "null value count = 4172 (4.855792732605507%)\n",
      "\n",
      "space\n",
      "null value count = 26370 (30.692055215437975%)\n",
      "\n",
      "description\n",
      "null value count = 2159 (2.5128611001187178%)\n",
      "\n",
      "experiences_offered\n",
      "null value count = 0 (0.0%)\n",
      "\n",
      "neighborhood_overview\n",
      "null value count = 31292 (36.420773295467775%)\n",
      "\n",
      "notes\n",
      "null value count = 52765 (61.41320794245676%)\n",
      "\n",
      "transit\n",
      "null value count = 31665 (36.85490816825345%)\n",
      "\n",
      "access\n",
      "null value count = 39205 (45.63071766102563%)\n",
      "\n",
      "interaction\n",
      "null value count = 35905 (41.78984613235876%)\n",
      "\n",
      "house_rules\n",
      "null value count = 36373 (42.33455154915152%)\n",
      "\n",
      "thumbnail_url\n",
      "null value count = 85918 (100.0%)\n",
      "\n",
      "medium_url\n",
      "null value count = 85918 (100.0%)\n",
      "\n",
      "picture_url\n",
      "null value count = 0 (0.0%)\n",
      "\n",
      "xl_picture_url\n",
      "null value count = 85918 (100.0%)\n",
      "\n",
      "host_id\n",
      "null value count = 0 (0.0%)\n",
      "\n",
      "host_url\n",
      "null value count = 0 (0.0%)\n",
      "\n",
      "host_name\n",
      "null value count = 40 (0.046556018529295376%)\n",
      "\n",
      "host_since\n",
      "null value count = 40 (0.046556018529295376%)\n",
      "\n",
      "host_location\n",
      "null value count = 264 (0.3072697222933495%)\n",
      "\n",
      "host_about\n",
      "null value count = 36519 (42.504481016783444%)\n",
      "\n",
      "host_response_time\n",
      "null value count = 25086 (29.19760702064759%)\n",
      "\n",
      "host_response_rate\n",
      "null value count = 25086 (29.19760702064759%)\n",
      "\n",
      "host_acceptance_rate\n",
      "null value count = 85918 (100.0%)\n",
      "\n",
      "host_is_superhost\n",
      "null value count = 40 (0.046556018529295376%)\n",
      "\n",
      "host_thumbnail_url\n",
      "null value count = 40 (0.046556018529295376%)\n",
      "\n",
      "host_picture_url\n",
      "null value count = 40 (0.046556018529295376%)\n",
      "\n",
      "host_neighbourhood\n",
      "null value count = 19198 (22.344561093135315%)\n",
      "\n",
      "host_listings_count\n",
      "null value count = 40 (0.046556018529295376%)\n",
      "\n",
      "host_total_listings_count\n",
      "null value count = 40 (0.046556018529295376%)\n",
      "\n",
      "host_verifications\n",
      "null value count = 0 (0.0%)\n",
      "\n",
      "host_has_profile_pic\n",
      "null value count = 40 (0.046556018529295376%)\n",
      "\n",
      "host_identity_verified\n",
      "null value count = 40 (0.046556018529295376%)\n",
      "\n",
      "street\n",
      "null value count = 0 (0.0%)\n",
      "\n",
      "neighbourhood\n",
      "null value count = 0 (0.0%)\n",
      "\n",
      "neighbourhood_cleansed\n",
      "null value count = 0 (0.0%)\n",
      "\n",
      "neighbourhood_group_cleansed\n",
      "null value count = 85918 (100.0%)\n",
      "\n",
      "city\n",
      "null value count = 141 (0.1641099653157662%)\n",
      "\n",
      "state\n",
      "null value count = 16756 (19.502316161921833%)\n",
      "\n",
      "zipcode\n",
      "null value count = 1954 (2.2742615051560793%)\n",
      "\n",
      "market\n",
      "null value count = 844 (0.9823319909681324%)\n",
      "\n",
      "smart_location\n",
      "null value count = 0 (0.0%)\n",
      "\n",
      "country_code\n",
      "null value count = 0 (0.0%)\n",
      "\n",
      "country\n",
      "null value count = 0 (0.0%)\n",
      "\n",
      "latitude\n",
      "null value count = 0 (0.0%)\n",
      "\n",
      "longitude\n",
      "null value count = 0 (0.0%)\n",
      "\n",
      "is_location_exact\n",
      "null value count = 0 (0.0%)\n",
      "\n",
      "property_type\n",
      "null value count = 0 (0.0%)\n",
      "\n",
      "room_type\n",
      "null value count = 0 (0.0%)\n",
      "\n",
      "accommodates\n",
      "null value count = 0 (0.0%)\n",
      "\n",
      "bathrooms\n",
      "null value count = 132 (0.15363486114667474%)\n",
      "\n",
      "bedrooms\n",
      "null value count = 38 (0.044228217602830605%)\n",
      "\n",
      "beds\n",
      "null value count = 151 (0.17574896994809003%)\n",
      "\n",
      "bed_type\n",
      "null value count = 0 (0.0%)\n",
      "\n",
      "amenities\n",
      "null value count = 0 (0.0%)\n",
      "\n",
      "square_feet\n",
      "null value count = 85491 (99.50301450219978%)\n",
      "\n",
      "price\n",
      "null value count = 0 (0.0%)\n",
      "\n",
      "weekly_price\n",
      "null value count = 78546 (91.41972578505087%)\n",
      "\n",
      "monthly_price\n",
      "null value count = 80656 (93.8755557624712%)\n",
      "\n",
      "security_deposit\n",
      "null value count = 30300 (35.266184035941244%)\n",
      "\n",
      "cleaning_fee\n",
      "null value count = 22222 (25.86419609395005%)\n",
      "\n",
      "guests_included\n",
      "null value count = 0 (0.0%)\n",
      "\n",
      "extra_people\n",
      "null value count = 0 (0.0%)\n",
      "\n",
      "minimum_nights\n",
      "null value count = 0 (0.0%)\n",
      "\n",
      "maximum_nights\n",
      "null value count = 0 (0.0%)\n",
      "\n",
      "minimum_minimum_nights\n",
      "null value count = 0 (0.0%)\n",
      "\n",
      "maximum_minimum_nights\n",
      "null value count = 0 (0.0%)\n",
      "\n",
      "minimum_maximum_nights\n",
      "null value count = 0 (0.0%)\n",
      "\n",
      "maximum_maximum_nights\n",
      "null value count = 0 (0.0%)\n",
      "\n",
      "minimum_nights_avg_ntm\n",
      "null value count = 0 (0.0%)\n",
      "\n",
      "maximum_nights_avg_ntm\n",
      "null value count = 0 (0.0%)\n",
      "\n",
      "calendar_updated\n",
      "null value count = 0 (0.0%)\n",
      "\n",
      "has_availability\n",
      "null value count = 0 (0.0%)\n",
      "\n",
      "availability_30\n",
      "null value count = 0 (0.0%)\n",
      "\n",
      "availability_60\n",
      "null value count = 0 (0.0%)\n",
      "\n",
      "availability_90\n",
      "null value count = 0 (0.0%)\n",
      "\n",
      "availability_365\n",
      "null value count = 0 (0.0%)\n",
      "\n",
      "calendar_last_scraped\n",
      "null value count = 0 (0.0%)\n",
      "\n",
      "number_of_reviews\n",
      "null value count = 0 (0.0%)\n",
      "\n",
      "number_of_reviews_ltm\n",
      "null value count = 0 (0.0%)\n",
      "\n",
      "first_review\n",
      "null value count = 22065 (25.68146372122256%)\n",
      "\n",
      "last_review\n",
      "null value count = 22065 (25.68146372122256%)\n",
      "\n",
      "review_scores_rating\n",
      "null value count = 23790 (27.689192020298425%)\n",
      "\n",
      "review_scores_accuracy\n",
      "null value count = 23840 (27.74738704346004%)\n",
      "\n",
      "review_scores_cleanliness\n",
      "null value count = 23828 (27.733420237901257%)\n",
      "\n",
      "review_scores_checkin\n",
      "null value count = 23892 (27.807909867548126%)\n",
      "\n",
      "review_scores_communication\n",
      "null value count = 23836 (27.742731441607116%)\n",
      "\n",
      "review_scores_location\n",
      "null value count = 23890 (27.805582066621664%)\n",
      "\n",
      "review_scores_value\n",
      "null value count = 23892 (27.807909867548126%)\n",
      "\n",
      "requires_license\n",
      "null value count = 0 (0.0%)\n",
      "\n",
      "license\n",
      "null value count = 85743 (99.79631741893434%)\n",
      "\n",
      "jurisdiction_names\n",
      "null value count = 85916 (99.99767219907353%)\n",
      "\n",
      "instant_bookable\n",
      "null value count = 0 (0.0%)\n",
      "\n",
      "is_business_travel_ready\n",
      "null value count = 0 (0.0%)\n",
      "\n",
      "cancellation_policy\n",
      "null value count = 0 (0.0%)\n",
      "\n",
      "require_guest_profile_picture\n",
      "null value count = 0 (0.0%)\n",
      "\n",
      "require_guest_phone_verification\n",
      "null value count = 0 (0.0%)\n",
      "\n",
      "calculated_host_listings_count\n",
      "null value count = 0 (0.0%)\n",
      "\n",
      "calculated_host_listings_count_entire_homes\n",
      "null value count = 0 (0.0%)\n",
      "\n",
      "calculated_host_listings_count_private_rooms\n",
      "null value count = 0 (0.0%)\n",
      "\n",
      "calculated_host_listings_count_shared_rooms\n",
      "null value count = 0 (0.0%)\n",
      "\n",
      "reviews_per_month\n",
      "null value count = 22065 (25.68146372122256%)\n",
      "\n"
     ]
    }
   ],
   "source": [
    "#percentage of null values for each attribute/column\n",
    "for col in df.columns:\n",
    "    print(col)\n",
    "    null_values = df[col].isnull().sum()\n",
    "    print(\"null value count = {} ({}%)\\n\".format(null_values, (null_values/no_of_records)*100))"
   ]
  },
  {
   "cell_type": "code",
   "execution_count": 8,
   "metadata": {},
   "outputs": [],
   "source": [
    "#remove columns that contains large no. of null values\n",
    "df.drop(['jurisdiction_names',\n",
    "         'license',\n",
    "         'monthly_price',\n",
    "         'weekly_price',\n",
    "         'square_feet',\n",
    "         'neighbourhood_group_cleansed',\n",
    "         'host_acceptance_rate',\n",
    "         'xl_picture_url',\n",
    "         'medium_url',\n",
    "         'thumbnail_url'], axis=1, inplace=True)"
   ]
  },
  {
   "cell_type": "code",
   "execution_count": 9,
   "metadata": {},
   "outputs": [
    {
     "data": {
      "text/plain": [
       "(85918, 96)"
      ]
     },
     "execution_count": 9,
     "metadata": {},
     "output_type": "execute_result"
    }
   ],
   "source": [
    "df.shape"
   ]
  },
  {
   "cell_type": "code",
   "execution_count": 10,
   "metadata": {},
   "outputs": [
    {
     "name": "stdout",
     "output_type": "stream",
     "text": [
      "id\n",
      "null value count = 0 (0.0%)\n",
      "\n",
      "listing_url\n",
      "null value count = 0 (0.0%)\n",
      "\n",
      "scrape_id\n",
      "null value count = 0 (0.0%)\n",
      "\n",
      "last_scraped\n",
      "null value count = 0 (0.0%)\n",
      "\n",
      "name\n",
      "null value count = 26 (0.030261412044041994%)\n",
      "\n",
      "summary\n",
      "null value count = 4172 (4.855792732605507%)\n",
      "\n",
      "space\n",
      "null value count = 26370 (30.692055215437975%)\n",
      "\n",
      "description\n",
      "null value count = 2159 (2.5128611001187178%)\n",
      "\n",
      "experiences_offered\n",
      "null value count = 0 (0.0%)\n",
      "\n",
      "neighborhood_overview\n",
      "null value count = 31292 (36.420773295467775%)\n",
      "\n",
      "notes\n",
      "null value count = 52765 (61.41320794245676%)\n",
      "\n",
      "transit\n",
      "null value count = 31665 (36.85490816825345%)\n",
      "\n",
      "access\n",
      "null value count = 39205 (45.63071766102563%)\n",
      "\n",
      "interaction\n",
      "null value count = 35905 (41.78984613235876%)\n",
      "\n",
      "house_rules\n",
      "null value count = 36373 (42.33455154915152%)\n",
      "\n",
      "picture_url\n",
      "null value count = 0 (0.0%)\n",
      "\n",
      "host_id\n",
      "null value count = 0 (0.0%)\n",
      "\n",
      "host_url\n",
      "null value count = 0 (0.0%)\n",
      "\n",
      "host_name\n",
      "null value count = 40 (0.046556018529295376%)\n",
      "\n",
      "host_since\n",
      "null value count = 40 (0.046556018529295376%)\n",
      "\n",
      "host_location\n",
      "null value count = 264 (0.3072697222933495%)\n",
      "\n",
      "host_about\n",
      "null value count = 36519 (42.504481016783444%)\n",
      "\n",
      "host_response_time\n",
      "null value count = 25086 (29.19760702064759%)\n",
      "\n",
      "host_response_rate\n",
      "null value count = 25086 (29.19760702064759%)\n",
      "\n",
      "host_is_superhost\n",
      "null value count = 40 (0.046556018529295376%)\n",
      "\n",
      "host_thumbnail_url\n",
      "null value count = 40 (0.046556018529295376%)\n",
      "\n",
      "host_picture_url\n",
      "null value count = 40 (0.046556018529295376%)\n",
      "\n",
      "host_neighbourhood\n",
      "null value count = 19198 (22.344561093135315%)\n",
      "\n",
      "host_listings_count\n",
      "null value count = 40 (0.046556018529295376%)\n",
      "\n",
      "host_total_listings_count\n",
      "null value count = 40 (0.046556018529295376%)\n",
      "\n",
      "host_verifications\n",
      "null value count = 0 (0.0%)\n",
      "\n",
      "host_has_profile_pic\n",
      "null value count = 40 (0.046556018529295376%)\n",
      "\n",
      "host_identity_verified\n",
      "null value count = 40 (0.046556018529295376%)\n",
      "\n",
      "street\n",
      "null value count = 0 (0.0%)\n",
      "\n",
      "neighbourhood\n",
      "null value count = 0 (0.0%)\n",
      "\n",
      "neighbourhood_cleansed\n",
      "null value count = 0 (0.0%)\n",
      "\n",
      "city\n",
      "null value count = 141 (0.1641099653157662%)\n",
      "\n",
      "state\n",
      "null value count = 16756 (19.502316161921833%)\n",
      "\n",
      "zipcode\n",
      "null value count = 1954 (2.2742615051560793%)\n",
      "\n",
      "market\n",
      "null value count = 844 (0.9823319909681324%)\n",
      "\n",
      "smart_location\n",
      "null value count = 0 (0.0%)\n",
      "\n",
      "country_code\n",
      "null value count = 0 (0.0%)\n",
      "\n",
      "country\n",
      "null value count = 0 (0.0%)\n",
      "\n",
      "latitude\n",
      "null value count = 0 (0.0%)\n",
      "\n",
      "longitude\n",
      "null value count = 0 (0.0%)\n",
      "\n",
      "is_location_exact\n",
      "null value count = 0 (0.0%)\n",
      "\n",
      "property_type\n",
      "null value count = 0 (0.0%)\n",
      "\n",
      "room_type\n",
      "null value count = 0 (0.0%)\n",
      "\n",
      "accommodates\n",
      "null value count = 0 (0.0%)\n",
      "\n",
      "bathrooms\n",
      "null value count = 132 (0.15363486114667474%)\n",
      "\n",
      "bedrooms\n",
      "null value count = 38 (0.044228217602830605%)\n",
      "\n",
      "beds\n",
      "null value count = 151 (0.17574896994809003%)\n",
      "\n",
      "bed_type\n",
      "null value count = 0 (0.0%)\n",
      "\n",
      "amenities\n",
      "null value count = 0 (0.0%)\n",
      "\n",
      "price\n",
      "null value count = 0 (0.0%)\n",
      "\n",
      "security_deposit\n",
      "null value count = 30300 (35.266184035941244%)\n",
      "\n",
      "cleaning_fee\n",
      "null value count = 22222 (25.86419609395005%)\n",
      "\n",
      "guests_included\n",
      "null value count = 0 (0.0%)\n",
      "\n",
      "extra_people\n",
      "null value count = 0 (0.0%)\n",
      "\n",
      "minimum_nights\n",
      "null value count = 0 (0.0%)\n",
      "\n",
      "maximum_nights\n",
      "null value count = 0 (0.0%)\n",
      "\n",
      "minimum_minimum_nights\n",
      "null value count = 0 (0.0%)\n",
      "\n",
      "maximum_minimum_nights\n",
      "null value count = 0 (0.0%)\n",
      "\n",
      "minimum_maximum_nights\n",
      "null value count = 0 (0.0%)\n",
      "\n",
      "maximum_maximum_nights\n",
      "null value count = 0 (0.0%)\n",
      "\n",
      "minimum_nights_avg_ntm\n",
      "null value count = 0 (0.0%)\n",
      "\n",
      "maximum_nights_avg_ntm\n",
      "null value count = 0 (0.0%)\n",
      "\n",
      "calendar_updated\n",
      "null value count = 0 (0.0%)\n",
      "\n",
      "has_availability\n",
      "null value count = 0 (0.0%)\n",
      "\n",
      "availability_30\n",
      "null value count = 0 (0.0%)\n",
      "\n",
      "availability_60\n",
      "null value count = 0 (0.0%)\n",
      "\n",
      "availability_90\n",
      "null value count = 0 (0.0%)\n",
      "\n",
      "availability_365\n",
      "null value count = 0 (0.0%)\n",
      "\n",
      "calendar_last_scraped\n",
      "null value count = 0 (0.0%)\n",
      "\n",
      "number_of_reviews\n",
      "null value count = 0 (0.0%)\n",
      "\n",
      "number_of_reviews_ltm\n",
      "null value count = 0 (0.0%)\n",
      "\n",
      "first_review\n",
      "null value count = 22065 (25.68146372122256%)\n",
      "\n",
      "last_review\n",
      "null value count = 22065 (25.68146372122256%)\n",
      "\n",
      "review_scores_rating\n",
      "null value count = 23790 (27.689192020298425%)\n",
      "\n",
      "review_scores_accuracy\n",
      "null value count = 23840 (27.74738704346004%)\n",
      "\n",
      "review_scores_cleanliness\n",
      "null value count = 23828 (27.733420237901257%)\n",
      "\n",
      "review_scores_checkin\n",
      "null value count = 23892 (27.807909867548126%)\n",
      "\n",
      "review_scores_communication\n",
      "null value count = 23836 (27.742731441607116%)\n",
      "\n",
      "review_scores_location\n",
      "null value count = 23890 (27.805582066621664%)\n",
      "\n",
      "review_scores_value\n",
      "null value count = 23892 (27.807909867548126%)\n",
      "\n",
      "requires_license\n",
      "null value count = 0 (0.0%)\n",
      "\n",
      "instant_bookable\n",
      "null value count = 0 (0.0%)\n",
      "\n",
      "is_business_travel_ready\n",
      "null value count = 0 (0.0%)\n",
      "\n",
      "cancellation_policy\n",
      "null value count = 0 (0.0%)\n",
      "\n",
      "require_guest_profile_picture\n",
      "null value count = 0 (0.0%)\n",
      "\n",
      "require_guest_phone_verification\n",
      "null value count = 0 (0.0%)\n",
      "\n",
      "calculated_host_listings_count\n",
      "null value count = 0 (0.0%)\n",
      "\n",
      "calculated_host_listings_count_entire_homes\n",
      "null value count = 0 (0.0%)\n",
      "\n",
      "calculated_host_listings_count_private_rooms\n",
      "null value count = 0 (0.0%)\n",
      "\n",
      "calculated_host_listings_count_shared_rooms\n",
      "null value count = 0 (0.0%)\n",
      "\n",
      "reviews_per_month\n",
      "null value count = 22065 (25.68146372122256%)\n",
      "\n",
      "(85918, 96)\n"
     ]
    }
   ],
   "source": [
    "#percentage of null values for each attribute/column for the updated DF\n",
    "for col in df.columns:\n",
    "    print(col)\n",
    "    null_values = df[col].isnull().sum()\n",
    "    print(\"null value count = {} ({}%)\\n\".format(null_values, (null_values/no_of_records)*100))\n",
    "print(df.shape)"
   ]
  },
  {
   "cell_type": "code",
   "execution_count": 11,
   "metadata": {},
   "outputs": [
    {
     "data": {
      "text/plain": [
       "1"
      ]
     },
     "execution_count": 11,
     "metadata": {},
     "output_type": "execute_result"
    }
   ],
   "source": [
    "len(df['scrape_id'].unique())"
   ]
  },
  {
   "cell_type": "code",
   "execution_count": 12,
   "metadata": {},
   "outputs": [
    {
     "data": {
      "text/plain": [
       "array([   13913,    15400,    17402, ..., 37600493, 37600584, 37600904],\n",
       "      dtype=int64)"
      ]
     },
     "execution_count": 12,
     "metadata": {},
     "output_type": "execute_result"
    }
   ],
   "source": [
    "df['id'].unique()"
   ]
  },
  {
   "cell_type": "code",
   "execution_count": 12,
   "metadata": {},
   "outputs": [
    {
     "data": {
      "text/plain": [
       "0           https://www.airbnb.com/rooms/13913\n",
       "1           https://www.airbnb.com/rooms/15400\n",
       "2           https://www.airbnb.com/rooms/17402\n",
       "3           https://www.airbnb.com/rooms/24328\n",
       "4           https://www.airbnb.com/rooms/25023\n",
       "                         ...                  \n",
       "85913    https://www.airbnb.com/rooms/37599653\n",
       "85914    https://www.airbnb.com/rooms/37600464\n",
       "85915    https://www.airbnb.com/rooms/37600493\n",
       "85916    https://www.airbnb.com/rooms/37600584\n",
       "85917    https://www.airbnb.com/rooms/37600904\n",
       "Name: listing_url, Length: 85918, dtype: object"
      ]
     },
     "execution_count": 12,
     "metadata": {},
     "output_type": "execute_result"
    }
   ],
   "source": [
    "df['listing_url']"
   ]
  },
  {
   "cell_type": "code",
   "execution_count": 13,
   "metadata": {},
   "outputs": [
    {
     "data": {
      "text/plain": [
       "0        Hello Everyone, I'm offering my lovely double ...\n",
       "1        Bright Chelsea Apartment  This is a bright one...\n",
       "2        Ready again from June 2018 for bookings after ...\n",
       "3        - End of terrace two bedroom house close to So...\n",
       "4        10 mins walk to Southfields tube and Wimbledon...\n",
       "                               ...                        \n",
       "85913                                                  NaN\n",
       "85914    My house is located on a quiet street. I offer...\n",
       "85915    Elmwood Guest House offers some Victorian feat...\n",
       "85916    My house is located on a quiet street. I offer...\n",
       "85917                                                  NaN\n",
       "Name: space, Length: 85918, dtype: object"
      ]
     },
     "execution_count": 13,
     "metadata": {},
     "output_type": "execute_result"
    }
   ],
   "source": [
    "df['space']"
   ]
  },
  {
   "cell_type": "code",
   "execution_count": 14,
   "metadata": {
    "scrolled": false
   },
   "outputs": [
    {
     "data": {
      "text/plain": [
       "\"Hello Everyone, I'm offering my lovely double bedroom in Finsbury Park area (zone 2) for let in a shared apartment.  You will share the apartment with me and it is fully furnished with a self catering kitchen. Two people can easily sleep well as the room has a queen size bed. I also have a travel cot for a baby for guest with small children.  I will require a deposit up front as a security gesture on both our parts and will be given back to you when you return the keys.  I trust anyone who will be responding to this add would treat my home with care and respect .  Best Wishes  Alina\""
      ]
     },
     "execution_count": 14,
     "metadata": {},
     "output_type": "execute_result"
    }
   ],
   "source": [
    "df['space'][0]"
   ]
  },
  {
   "cell_type": "code",
   "execution_count": 15,
   "metadata": {},
   "outputs": [
    {
     "data": {
      "text/plain": [
       "array(['2019-08-10', '2019-09-13', '2019-08-09'], dtype=object)"
      ]
     },
     "execution_count": 15,
     "metadata": {},
     "output_type": "execute_result"
    }
   ],
   "source": [
    "df['last_scraped'].unique()"
   ]
  },
  {
   "cell_type": "code",
   "execution_count": 16,
   "metadata": {},
   "outputs": [
    {
     "data": {
      "text/plain": [
       "'My bright double bedroom with a large window has a relaxed feeling! It comfortably fits one or two and is centrally located just two blocks from Finsbury Park. Enjoy great restaurants in the area and easy access to easy transport tubes, trains and buses. Babies and children of all ages are welcome.'"
      ]
     },
     "execution_count": 16,
     "metadata": {},
     "output_type": "execute_result"
    }
   ],
   "source": [
    "df['summary'][0]"
   ]
  },
  {
   "cell_type": "code",
   "execution_count": 17,
   "metadata": {},
   "outputs": [
    {
     "data": {
      "text/plain": [
       "array(['business', 'romantic', 'none', 'family', 'social'], dtype=object)"
      ]
     },
     "execution_count": 17,
     "metadata": {},
     "output_type": "execute_result"
    }
   ],
   "source": [
    "df['experiences_offered'].unique()"
   ]
  },
  {
   "cell_type": "code",
   "execution_count": 18,
   "metadata": {},
   "outputs": [
    {
     "data": {
      "text/plain": [
       "'Finsbury Park is a friendly melting pot community composed of Turkish, French, Spanish, Middle Eastern, Irish and English families.  We have a wonderful variety of international restaurants directly under us on Stroud Green Road. And there are many shops and large Tescos supermarket right next door.  But you can also venture up to Crouch End and along Greens Lanes where there will endless choice of Turkish and Middle Eastern cuisines.s'"
      ]
     },
     "execution_count": 18,
     "metadata": {},
     "output_type": "execute_result"
    }
   ],
   "source": [
    "df['neighborhood_overview'][0]"
   ]
  },
  {
   "cell_type": "code",
   "execution_count": 13,
   "metadata": {},
   "outputs": [
    {
     "data": {
      "text/plain": [
       "0     $65.00\n",
       "1    $100.00\n",
       "2    $300.00\n",
       "3    $175.00\n",
       "4     $65.00\n",
       "Name: price, dtype: object"
      ]
     },
     "execution_count": 13,
     "metadata": {},
     "output_type": "execute_result"
    }
   ],
   "source": [
    "df['price'].head()"
   ]
  },
  {
   "cell_type": "code",
   "execution_count": 14,
   "metadata": {},
   "outputs": [
    {
     "data": {
      "text/plain": [
       "str"
      ]
     },
     "execution_count": 14,
     "metadata": {},
     "output_type": "execute_result"
    }
   ],
   "source": [
    "type(df['price'][0])"
   ]
  },
  {
   "cell_type": "code",
   "execution_count": 18,
   "metadata": {},
   "outputs": [
    {
     "name": "stdout",
     "output_type": "stream",
     "text": [
      "0\n"
     ]
    }
   ],
   "source": [
    "count = 0\n",
    "for i in range(0, no_of_records):\n",
    "    if pd.isnull(df.loc[i, 'price']):#df['price'][i]):\n",
    "        count += 1\n",
    "print(count)"
   ]
  },
  {
   "cell_type": "code",
   "execution_count": 31,
   "metadata": {
    "scrolled": true
   },
   "outputs": [
    {
     "name": "stdout",
     "output_type": "stream",
     "text": [
      "0\n"
     ]
    }
   ],
   "source": [
    "count = 0\n",
    "for i in range(0, no_of_records):\n",
    "    if type(df['price'][i]) == str:\n",
    "        df['price'][i] = str(df['price'][i]).strip('$,')\n",
    "print(count)"
   ]
  },
  {
   "cell_type": "code",
   "execution_count": 14,
   "metadata": {},
   "outputs": [
    {
     "name": "stdout",
     "output_type": "stream",
     "text": [
      "0\n"
     ]
    }
   ],
   "source": [
    "print(count)"
   ]
  },
  {
   "cell_type": "code",
   "execution_count": 22,
   "metadata": {
    "collapsed": true
   },
   "outputs": [
    {
     "name": "stderr",
     "output_type": "stream",
     "text": [
      "<ipython-input-22-c5db26b314c2>:3: SettingWithCopyWarning: \n",
      "A value is trying to be set on a copy of a slice from a DataFrame\n",
      "\n",
      "See the caveats in the documentation: https://pandas.pydata.org/pandas-docs/stable/user_guide/indexing.html#returning-a-view-versus-a-copy\n",
      "  df['price'][i] = df['price'][i].replace(',','')\n"
     ]
    }
   ],
   "source": [
    "for i in range(0, no_of_records):\n",
    "    if type(df['price'][i]) == str:\n",
    "        df['price'][i] = df['price'][i].replace(',','')"
   ]
  },
  {
   "cell_type": "code",
   "execution_count": 23,
   "metadata": {},
   "outputs": [
    {
     "name": "stderr",
     "output_type": "stream",
     "text": [
      "<ipython-input-23-6ae84e4d0fcd>:3: SettingWithCopyWarning: \n",
      "A value is trying to be set on a copy of a slice from a DataFrame\n",
      "\n",
      "See the caveats in the documentation: https://pandas.pydata.org/pandas-docs/stable/user_guide/indexing.html#returning-a-view-versus-a-copy\n",
      "  df['price'][i] = float(df['price'][i])\n"
     ]
    }
   ],
   "source": [
    "#count = 0\n",
    "for i in range(0, no_of_records):\n",
    "    df['price'][i] = float(df['price'][i])"
   ]
  },
  {
   "cell_type": "code",
   "execution_count": 24,
   "metadata": {},
   "outputs": [],
   "source": [
    "count = 0\n",
    "for i in range(0, no_of_records):\n",
    "    if type(df['price'][i]) == float:\n",
    "        count += 1"
   ]
  },
  {
   "cell_type": "code",
   "execution_count": 25,
   "metadata": {},
   "outputs": [
    {
     "name": "stdout",
     "output_type": "stream",
     "text": [
      "no_of_records=85918, count=85918\n",
      "True\n"
     ]
    }
   ],
   "source": [
    "print(f\"no_of_records={no_of_records}, count={count}\")\n",
    "print(count==no_of_records)"
   ]
  },
  {
   "cell_type": "code",
   "execution_count": 28,
   "metadata": {
    "scrolled": true
   },
   "outputs": [
    {
     "data": {
      "text/plain": [
       "0"
      ]
     },
     "execution_count": 28,
     "metadata": {},
     "output_type": "execute_result"
    }
   ],
   "source": [
    "len(df[df['price'] < 0.0])"
   ]
  },
  {
   "cell_type": "code",
   "execution_count": 29,
   "metadata": {},
   "outputs": [
    {
     "data": {
      "text/plain": [
       "18"
      ]
     },
     "execution_count": 29,
     "metadata": {},
     "output_type": "execute_result"
    }
   ],
   "source": [
    "len(df[df['price'] == 0.0])"
   ]
  },
  {
   "cell_type": "code",
   "execution_count": 32,
   "metadata": {},
   "outputs": [],
   "source": [
    "import matplotlib.pyplot as plt\n",
    "import seaborn as sns"
   ]
  },
  {
   "cell_type": "code",
   "execution_count": 33,
   "metadata": {},
   "outputs": [],
   "source": [
    "%matplotlib inline\n",
    "sns.set_style('whitegrid')"
   ]
  },
  {
   "cell_type": "code",
   "execution_count": 34,
   "metadata": {
    "scrolled": true
   },
   "outputs": [
    {
     "data": {
      "text/plain": [
       "<AxesSubplot:xlabel='number_of_reviews', ylabel='price'>"
      ]
     },
     "execution_count": 34,
     "metadata": {},
     "output_type": "execute_result"
    },
    {
     "data": {
      "image/png": "[encoded data removed]",
      "text/plain": [
       "<Figure size 432x288 with 1 Axes>"
      ]
     },
     "metadata": {},
     "output_type": "display_data"
    }
   ],
   "source": [
    "sns.scatterplot(x='number_of_reviews', y='price', hue='experiences_offered', data=df)"
   ]
  },
  {
   "cell_type": "code",
   "execution_count": 46,
   "metadata": {},
   "outputs": [
    {
     "data": {
      "text/plain": [
       "<AxesSubplot:xlabel='experiences_offered', ylabel='count'>"
      ]
     },
     "execution_count": 46,
     "metadata": {},
     "output_type": "execute_result"
    },
    {
     "data": {
      "image/png": "[encoded data removed]",
      "text/plain": [
       "<Figure size 1080x648 with 1 Axes>"
      ]
     },
     "metadata": {},
     "output_type": "display_data"
    }
   ],
   "source": [
    "sns.set(rc={'figure.figsize':(15, 9)})\n",
    "sns.countplot(x='experiences_offered', data=df)"
   ]
  },
  {
   "cell_type": "code",
   "execution_count": 49,
   "metadata": {},
   "outputs": [
    {
     "data": {
      "text/plain": [
       "none        84149\n",
       "business      609\n",
       "family        502\n",
       "social        436\n",
       "romantic      222\n",
       "Name: experiences_offered, dtype: int64"
      ]
     },
     "execution_count": 49,
     "metadata": {},
     "output_type": "execute_result"
    }
   ],
   "source": [
    "df['experiences_offered'].value_counts()"
   ]
  },
  {
   "cell_type": "code",
   "execution_count": 64,
   "metadata": {},
   "outputs": [
    {
     "data": {
      "text/plain": [
       "False    85892\n",
       "True        26\n",
       "Name: name, dtype: int64"
      ]
     },
     "execution_count": 64,
     "metadata": {},
     "output_type": "execute_result"
    }
   ],
   "source": [
    "df['name'].isnull().value_counts()"
   ]
  },
  {
   "cell_type": "code",
   "execution_count": 25,
   "metadata": {},
   "outputs": [
    {
     "data": {
      "text/plain": [
       "False    63853\n",
       "True     22065\n",
       "Name: reviews_per_month, dtype: int64"
      ]
     },
     "execution_count": 25,
     "metadata": {},
     "output_type": "execute_result"
    }
   ],
   "source": [
    "df['reviews_per_month'].isnull().value_counts()"
   ]
  },
  {
   "cell_type": "code",
   "execution_count": 26,
   "metadata": {},
   "outputs": [
    {
     "data": {
      "text/plain": [
       "United Kingdom    85915\n",
       "France                2\n",
       "Spain                 1\n",
       "Name: country, dtype: int64"
      ]
     },
     "execution_count": 26,
     "metadata": {},
     "output_type": "execute_result"
    }
   ],
   "source": [
    "df['country'].value_counts()"
   ]
  },
  {
   "cell_type": "code",
   "execution_count": 59,
   "metadata": {},
   "outputs": [
    {
     "data": {
      "text/plain": [
       "<seaborn.axisgrid.FacetGrid at 0x291551ce790>"
      ]
     },
     "execution_count": 59,
     "metadata": {},
     "output_type": "execute_result"
    },
    {
     "data": {
      "image/png": "[encoded data removed]",
      "text/plain": [
       "<Figure size 360x360 with 1 Axes>"
      ]
     },
     "metadata": {},
     "output_type": "display_data"
    }
   ],
   "source": [
    "sns.displot(df.where(df['price'] < 2000, inplace = False)['price'], bins=50)"
   ]
  },
  {
   "cell_type": "code",
   "execution_count": 58,
   "metadata": {},
   "outputs": [
    {
     "data": {
      "text/plain": [
       "<seaborn.axisgrid.FacetGrid at 0x2915470e2b0>"
      ]
     },
     "execution_count": 58,
     "metadata": {},
     "output_type": "execute_result"
    },
    {
     "data": {
      "image/png": "[encoded data removed]",
      "text/plain": [
       "<Figure size 360x360 with 1 Axes>"
      ]
     },
     "metadata": {},
     "output_type": "display_data"
    }
   ],
   "source": [
    "sns.displot(df['price'], bins=50)"
   ]
  },
  {
   "cell_type": "code",
   "execution_count": 60,
   "metadata": {},
   "outputs": [
    {
     "data": {
      "text/plain": [
       "0         65\n",
       "1        100\n",
       "2        300\n",
       "3        175\n",
       "4         65\n",
       "        ... \n",
       "85913     22\n",
       "85914     60\n",
       "85915     33\n",
       "85916     55\n",
       "85917     85\n",
       "Name: price, Length: 85918, dtype: object"
      ]
     },
     "execution_count": 60,
     "metadata": {},
     "output_type": "execute_result"
    }
   ],
   "source": [
    "df.where(df['price'] < 12500, inplace = False)['price']"
   ]
  },
  {
   "cell_type": "code",
   "execution_count": 61,
   "metadata": {},
   "outputs": [
    {
     "data": {
      "text/plain": [
       "pandas.core.series.Series"
      ]
     },
     "execution_count": 61,
     "metadata": {},
     "output_type": "execute_result"
    }
   ],
   "source": [
    "type(df['price'])"
   ]
  },
  {
   "cell_type": "code",
   "execution_count": 4,
   "metadata": {},
   "outputs": [
    {
     "data": {
      "text/plain": [
       "0        For art lovers I can give guest my Tate Member...\n",
       "1        The building next door is in the process of be...\n",
       "2        This property has new flooring throughout. Gue...\n",
       "3        - Please have a profile or tell us more about ...\n",
       "4                               Non-smokers only. No pets.\n",
       "                               ...                        \n",
       "85913                                                  NaN\n",
       "85914                                                  ...\n",
       "85915    AT ELMWOOD GUEST HOUSE  Our guests can borrow ...\n",
       "85916                                                  ...\n",
       "85917                                                  NaN\n",
       "Name: notes, Length: 85918, dtype: object"
      ]
     },
     "execution_count": 4,
     "metadata": {},
     "output_type": "execute_result"
    }
   ],
   "source": [
    "df['notes']"
   ]
  },
  {
   "cell_type": "code",
   "execution_count": 6,
   "metadata": {},
   "outputs": [
    {
     "data": {
      "text/plain": [
       "'For art lovers I can give guest my Tate Members card to which offers free access to the both the Tate Galleries.'"
      ]
     },
     "execution_count": 6,
     "metadata": {},
     "output_type": "execute_result"
    }
   ],
   "source": [
    "df['notes'][0]"
   ]
  },
  {
   "cell_type": "code",
   "execution_count": 7,
   "metadata": {},
   "outputs": [
    {
     "data": {
      "text/plain": [
       "0        Finsbury Park is a friendly melting pot commun...\n",
       "1                                           It is Chelsea.\n",
       "2        Location, location, location! You won't find b...\n",
       "3        - Battersea is a quiet family area, easy acces...\n",
       "4        This is a leafy residential area with excellen...\n",
       "                               ...                        \n",
       "85913                                                  NaN\n",
       "85914                                                  ...\n",
       "85915    Elmwood Guest House is located in a quiet neig...\n",
       "85916                                                  ...\n",
       "85917                                                  NaN\n",
       "Name: neighborhood_overview, Length: 85918, dtype: object"
      ]
     },
     "execution_count": 7,
     "metadata": {},
     "output_type": "execute_result"
    }
   ],
   "source": [
    "df['neighborhood_overview']"
   ]
  },
  {
   "cell_type": "code",
   "execution_count": 8,
   "metadata": {},
   "outputs": [
    {
     "data": {
      "text/plain": [
       "0        The flat only a 10 minute walk to Finsbury Par...\n",
       "1        The underground stations are South Kensington ...\n",
       "2        You can walk to tourist London or take numerou...\n",
       "3        - 5 mins walk to Battersea Park, 15 mins walk ...\n",
       "4        Free off-street parking; buses to Richmond/Too...\n",
       "                               ...                        \n",
       "85913                                                  NaN\n",
       "85914                                                  ...\n",
       "85915     Guests are walking distance to public transport.\n",
       "85916                                                  ...\n",
       "85917                                                  NaN\n",
       "Name: transit, Length: 85918, dtype: object"
      ]
     },
     "execution_count": 8,
     "metadata": {},
     "output_type": "execute_result"
    }
   ],
   "source": [
    "df['transit']"
   ]
  },
  {
   "cell_type": "code",
   "execution_count": 9,
   "metadata": {},
   "outputs": [
    {
     "data": {
      "text/plain": [
       "0        Guest will have access to the self catering ki...\n",
       "1        There are two wardrobes for guests exclusive u...\n",
       "2                  Full use of whole independent apartment\n",
       "3        - there is a communal garden in our complex - ...\n",
       "4                    Entire flat; use of communal gardens.\n",
       "                               ...                        \n",
       "85913                                                  NaN\n",
       "85914    Guests have access to their bedroom and alloca...\n",
       "85915                                                  NaN\n",
       "85916    The house is on the 2nd floor of an 8-storey a...\n",
       "85917                                                  NaN\n",
       "Name: access, Length: 85918, dtype: object"
      ]
     },
     "execution_count": 9,
     "metadata": {},
     "output_type": "execute_result"
    }
   ],
   "source": [
    "df['access']"
   ]
  },
  {
   "cell_type": "code",
   "execution_count": 10,
   "metadata": {},
   "outputs": [
    {
     "data": {
      "text/plain": [
       "\"Guest will have access to the self catering kitchen and bathroom. There is the flat is equipped wifi internet, a washing machine equipped with dryer for laundry and a hair drier in the bathroom. Since the flat is non smoking guest can go outside the little front balcony and have a cigarette if they like.  Note:  I will be staying on the pull out couch in the living room at night and working away from home in daytime.  I don't mind if guests coming in to relax on the sofa, read, listen to music and or watch TV when I'm way or not using the room. My aim is make guest free as comfortable as I can:).\""
      ]
     },
     "execution_count": 10,
     "metadata": {},
     "output_type": "execute_result"
    }
   ],
   "source": [
    "df['access'][0]"
   ]
  },
  {
   "cell_type": "code",
   "execution_count": 11,
   "metadata": {},
   "outputs": [
    {
     "data": {
      "text/plain": [
       "'I like to have little chats with my guest over a cup of coffee or tea or even a drink in our local pubs-if work and our daily plains permit it:)'"
      ]
     },
     "execution_count": 11,
     "metadata": {},
     "output_type": "execute_result"
    }
   ],
   "source": [
    "df['interaction'][0]"
   ]
  },
  {
   "cell_type": "code",
   "execution_count": 12,
   "metadata": {},
   "outputs": [
    {
     "data": {
      "text/plain": [
       "\"I'm an artist and have my artwork up on the wall so please care.  When existing: You must lock all doors and windows when leaving the apartment and building and respect the other tenants in the building. If any problems arise you must contact me asap via telephone.\""
      ]
     },
     "execution_count": 12,
     "metadata": {},
     "output_type": "execute_result"
    }
   ],
   "source": [
    "df['house_rules'][0]"
   ]
  },
  {
   "cell_type": "code",
   "execution_count": 13,
   "metadata": {},
   "outputs": [
    {
     "data": {
      "text/plain": [
       "0            54730\n",
       "1            60302\n",
       "2            67564\n",
       "3            41759\n",
       "4           102813\n",
       "           ...    \n",
       "85913      5955480\n",
       "85914     92468088\n",
       "85915    270554147\n",
       "85916     92468088\n",
       "85917    284082596\n",
       "Name: host_id, Length: 85918, dtype: int64"
      ]
     },
     "execution_count": 13,
     "metadata": {},
     "output_type": "execute_result"
    }
   ],
   "source": [
    "df['host_id']"
   ]
  },
  {
   "cell_type": "code",
   "execution_count": 14,
   "metadata": {},
   "outputs": [
    {
     "data": {
      "text/plain": [
       "0            https://www.airbnb.com/users/show/54730\n",
       "1            https://www.airbnb.com/users/show/60302\n",
       "2            https://www.airbnb.com/users/show/67564\n",
       "3            https://www.airbnb.com/users/show/41759\n",
       "4           https://www.airbnb.com/users/show/102813\n",
       "                            ...                     \n",
       "85913      https://www.airbnb.com/users/show/5955480\n",
       "85914     https://www.airbnb.com/users/show/92468088\n",
       "85915    https://www.airbnb.com/users/show/270554147\n",
       "85916     https://www.airbnb.com/users/show/92468088\n",
       "85917    https://www.airbnb.com/users/show/284082596\n",
       "Name: host_url, Length: 85918, dtype: object"
      ]
     },
     "execution_count": 14,
     "metadata": {},
     "output_type": "execute_result"
    }
   ],
   "source": [
    "df['host_url']"
   ]
  },
  {
   "cell_type": "code",
   "execution_count": 15,
   "metadata": {},
   "outputs": [
    {
     "data": {
      "text/plain": [
       "0            Alina\n",
       "1         Philippa\n",
       "2              Liz\n",
       "3              Joe\n",
       "4           Amanda\n",
       "           ...    \n",
       "85913          Cee\n",
       "85914         Akin\n",
       "85915         Brin\n",
       "85916         Akin\n",
       "85917    Adedamola\n",
       "Name: host_name, Length: 85918, dtype: object"
      ]
     },
     "execution_count": 15,
     "metadata": {},
     "output_type": "execute_result"
    }
   ],
   "source": [
    "df['host_name']"
   ]
  },
  {
   "cell_type": "code",
   "execution_count": 16,
   "metadata": {},
   "outputs": [
    {
     "data": {
      "text/plain": [
       "0                      Holiday London DB Room Let-on going\n",
       "1                      Bright Chelsea  Apartment. Chelsea!\n",
       "2                    Superb 3-Bed/2 Bath & Wifi: Trendy W1\n",
       "3        Battersea bedroom & office w parking shared ga...\n",
       "4            All-comforts 2-bed flat near Wimbledon tennis\n",
       "                               ...                        \n",
       "85913                                 Single study bedroom\n",
       "85914     Big Double Room Hotel Style Safe and Quite Place\n",
       "85915                                ELMWOOD GUEST HOUSE 9\n",
       "85916    Hotel Style Cozy Single (Website hidden by Air...\n",
       "85917                                  Home Away From Home\n",
       "Name: name, Length: 85918, dtype: object"
      ]
     },
     "execution_count": 16,
     "metadata": {},
     "output_type": "execute_result"
    }
   ],
   "source": [
    "df['name']"
   ]
  },
  {
   "cell_type": "code",
   "execution_count": 17,
   "metadata": {},
   "outputs": [
    {
     "data": {
      "text/plain": [
       "0        2009-11-16\n",
       "1        2009-12-05\n",
       "2        2010-01-04\n",
       "3        2009-09-28\n",
       "4        2010-04-03\n",
       "            ...    \n",
       "85913    2013-04-16\n",
       "85914    2016-08-29\n",
       "85915    2019-06-22\n",
       "85916    2016-08-29\n",
       "85917    2019-08-08\n",
       "Name: host_since, Length: 85918, dtype: object"
      ]
     },
     "execution_count": 17,
     "metadata": {},
     "output_type": "execute_result"
    }
   ],
   "source": [
    "df['host_since']"
   ]
  },
  {
   "cell_type": "code",
   "execution_count": 18,
   "metadata": {},
   "outputs": [
    {
     "data": {
      "text/plain": [
       "0            London, England, United Kingdom\n",
       "1        Kensington, England, United Kingdom\n",
       "2            London, England, United Kingdom\n",
       "3            London, England, United Kingdom\n",
       "4                         Rome, Lazio, Italy\n",
       "                        ...                 \n",
       "85913                               Slovenia\n",
       "85914        London, England, United Kingdom\n",
       "85915                                     GB\n",
       "85916        London, England, United Kingdom\n",
       "85917                                     GB\n",
       "Name: host_location, Length: 85918, dtype: object"
      ]
     },
     "execution_count": 18,
     "metadata": {},
     "output_type": "execute_result"
    }
   ],
   "source": [
    "df['host_location']"
   ]
  },
  {
   "cell_type": "code",
   "execution_count": 19,
   "metadata": {},
   "outputs": [
    {
     "data": {
      "text/plain": [
       "0        I am a Multi-Media Visual Artist and Creative ...\n",
       "1        English, grandmother,  I have travelled quite ...\n",
       "2        We are Liz and Jack.  We manage a number of ho...\n",
       "3        I've been using Airbnb for a while now, both a...\n",
       "4        Hi, I'm a sociologist/anthropologist, NLP exec...\n",
       "                               ...                        \n",
       "85913    I now live in Slovenia in a small flat ın the ...\n",
       "85914    10 years experience in 5 stars hotels . \\n\\nCo...\n",
       "85915                                                  NaN\n",
       "85916    10 years experience in 5 stars hotels . \\n\\nCo...\n",
       "85917                                                  NaN\n",
       "Name: host_about, Length: 85918, dtype: object"
      ]
     },
     "execution_count": 19,
     "metadata": {},
     "output_type": "execute_result"
    }
   ],
   "source": [
    "df['host_about']"
   ]
  },
  {
   "cell_type": "code",
   "execution_count": 20,
   "metadata": {},
   "outputs": [
    {
     "data": {
      "text/plain": [
       "'I am a Multi-Media Visual Artist and Creative Practitioner in Education. I live in  London England with a Greek/Canadian origins and work internationally. \\r\\n\\r\\nI love everything there is to be enjoyed in life and travel is on top of my list!'"
      ]
     },
     "execution_count": 20,
     "metadata": {},
     "output_type": "execute_result"
    }
   ],
   "source": [
    "df['host_about'][0]"
   ]
  },
  {
   "cell_type": "code",
   "execution_count": 21,
   "metadata": {},
   "outputs": [
    {
     "data": {
      "text/plain": [
       "0        f\n",
       "1        t\n",
       "2        t\n",
       "3        f\n",
       "4        f\n",
       "        ..\n",
       "85913    f\n",
       "85914    f\n",
       "85915    f\n",
       "85916    f\n",
       "85917    f\n",
       "Name: host_is_superhost, Length: 85918, dtype: object"
      ]
     },
     "execution_count": 21,
     "metadata": {},
     "output_type": "execute_result"
    }
   ],
   "source": [
    "df['host_is_superhost']"
   ]
  },
  {
   "cell_type": "code",
   "execution_count": 24,
   "metadata": {},
   "outputs": [
    {
     "data": {
      "text/plain": [
       "0        LB of Islington\n",
       "1                Chelsea\n",
       "2              Fitzrovia\n",
       "3              Battersea\n",
       "4              Wimbledon\n",
       "              ...       \n",
       "85913                NaN\n",
       "85914        St. Pancras\n",
       "85915                NaN\n",
       "85916        St. Pancras\n",
       "85917      LB of Croydon\n",
       "Name: host_neighbourhood, Length: 85918, dtype: object"
      ]
     },
     "execution_count": 24,
     "metadata": {},
     "output_type": "execute_result"
    }
   ],
   "source": [
    "df['host_neighbourhood']"
   ]
  },
  {
   "cell_type": "code",
   "execution_count": 26,
   "metadata": {},
   "outputs": [
    {
     "data": {
      "text/plain": [
       "'Fitzrovia'"
      ]
     },
     "execution_count": 26,
     "metadata": {},
     "output_type": "execute_result"
    }
   ],
   "source": [
    "df['host_neighbourhood'][2]"
   ]
  },
  {
   "cell_type": "code",
   "execution_count": 27,
   "metadata": {},
   "outputs": [
    {
     "data": {
      "text/plain": [
       "4.0"
      ]
     },
     "execution_count": 27,
     "metadata": {},
     "output_type": "execute_result"
    }
   ],
   "source": [
    "df['host_listings_count'][0]"
   ]
  },
  {
   "cell_type": "code",
   "execution_count": 30,
   "metadata": {},
   "outputs": [
    {
     "data": {
      "text/plain": [
       "0                ['email', 'phone', 'facebook', 'reviews']\n",
       "1        ['email', 'phone', 'reviews', 'jumio', 'govern...\n",
       "2        ['email', 'phone', 'reviews', 'jumio', 'offlin...\n",
       "3        ['email', 'phone', 'reviews', 'jumio', 'offlin...\n",
       "4                            ['email', 'phone', 'reviews']\n",
       "                               ...                        \n",
       "85913    ['email', 'phone', 'facebook', 'reviews', 'jum...\n",
       "85914                                   ['email', 'phone']\n",
       "85915                                   ['email', 'phone']\n",
       "85916                                   ['email', 'phone']\n",
       "85917                         ['email', 'phone', 'google']\n",
       "Name: host_verifications, Length: 85918, dtype: object"
      ]
     },
     "execution_count": 30,
     "metadata": {},
     "output_type": "execute_result"
    }
   ],
   "source": [
    "df['host_verifications']"
   ]
  },
  {
   "cell_type": "code",
   "execution_count": 33,
   "metadata": {},
   "outputs": [
    {
     "data": {
      "text/plain": [
       "0        f\n",
       "1        t\n",
       "2        t\n",
       "3        t\n",
       "4        f\n",
       "        ..\n",
       "85913    f\n",
       "85914    f\n",
       "85915    f\n",
       "85916    f\n",
       "85917    f\n",
       "Name: host_identity_verified, Length: 85918, dtype: object"
      ]
     },
     "execution_count": 33,
     "metadata": {},
     "output_type": "execute_result"
    }
   ],
   "source": [
    "df['host_identity_verified']"
   ]
  },
  {
   "cell_type": "code",
   "execution_count": 34,
   "metadata": {},
   "outputs": [
    {
     "data": {
      "text/plain": [
       "f    54660\n",
       "t    31218\n",
       "Name: host_identity_verified, dtype: int64"
      ]
     },
     "execution_count": 34,
     "metadata": {},
     "output_type": "execute_result"
    }
   ],
   "source": [
    "df['host_identity_verified'].value_counts()"
   ]
  },
  {
   "cell_type": "code",
   "execution_count": 35,
   "metadata": {},
   "outputs": [
    {
     "data": {
      "text/plain": [
       "0        Islington, Greater London, United Kingdom\n",
       "1                           London, United Kingdom\n",
       "2                London, Fitzrovia, United Kingdom\n",
       "3                           London, United Kingdom\n",
       "4                Wimbledon, London, United Kingdom\n",
       "                           ...                    \n",
       "85913      Greater London, England, United Kingdom\n",
       "85914      Greater London, England, United Kingdom\n",
       "85915      West Yorkshire, England, United Kingdom\n",
       "85916      Greater London, England, United Kingdom\n",
       "85917      Greater London, England, United Kingdom\n",
       "Name: street, Length: 85918, dtype: object"
      ]
     },
     "execution_count": 35,
     "metadata": {},
     "output_type": "execute_result"
    }
   ],
   "source": [
    "df['street']"
   ]
  },
  {
   "cell_type": "code",
   "execution_count": 36,
   "metadata": {},
   "outputs": [
    {
     "data": {
      "text/plain": [
       "t    53165\n",
       "f    32753\n",
       "Name: is_location_exact, dtype: int64"
      ]
     },
     "execution_count": 36,
     "metadata": {},
     "output_type": "execute_result"
    }
   ],
   "source": [
    "df['is_location_exact'].value_counts()"
   ]
  },
  {
   "cell_type": "code",
   "execution_count": 37,
   "metadata": {},
   "outputs": [
    {
     "data": {
      "text/plain": [
       "array(['Apartment', 'Townhouse', 'House', 'Condominium',\n",
       "       'Serviced apartment', 'Bed and breakfast', 'Aparthotel', 'Loft',\n",
       "       'Other', 'Guest suite', 'Boat', 'Bungalow', 'Cottage',\n",
       "       'Guesthouse', 'Villa', 'Cabin', 'Yurt', 'Hostel', 'Parking Space',\n",
       "       'Tiny house', 'Nature lodge', 'Camper/RV', 'Hut', 'Boutique hotel',\n",
       "       'Houseboat', 'Hotel', 'Chalet', 'Earth house', 'Lighthouse',\n",
       "       'Barn', 'Ryokan (Japan)', 'Casa particular (Cuba)', 'Island',\n",
       "       'Treehouse', 'Farm stay', 'Bus', 'Campsite', 'Tent', 'Plane',\n",
       "       'Dome house', 'Minsu (Taiwan)'], dtype=object)"
      ]
     },
     "execution_count": 37,
     "metadata": {},
     "output_type": "execute_result"
    }
   ],
   "source": [
    "df['property_type'].unique()"
   ]
  },
  {
   "cell_type": "code",
   "execution_count": 38,
   "metadata": {},
   "outputs": [
    {
     "data": {
      "text/plain": [
       "array(['Private room', 'Entire home/apt', 'Shared room', 'Hotel room'],\n",
       "      dtype=object)"
      ]
     },
     "execution_count": 38,
     "metadata": {},
     "output_type": "execute_result"
    }
   ],
   "source": [
    "df['room_type'].unique()"
   ]
  },
  {
   "cell_type": "code",
   "execution_count": 41,
   "metadata": {},
   "outputs": [
    {
     "data": {
      "text/plain": [
       "array([ 2,  6,  4,  5, 10,  1,  3, 12,  8,  7, 11, 13,  9, 16, 14, 15,  0,\n",
       "       20], dtype=int64)"
      ]
     },
     "execution_count": 41,
     "metadata": {},
     "output_type": "execute_result"
    }
   ],
   "source": [
    "df['accommodates'].unique()"
   ]
  },
  {
   "cell_type": "code",
   "execution_count": 42,
   "metadata": {},
   "outputs": [
    {
     "data": {
      "text/plain": [
       "2     36373\n",
       "4     17006\n",
       "1     10792\n",
       "6      6871\n",
       "3      5859\n",
       "5      3988\n",
       "8      2095\n",
       "7      1391\n",
       "10      557\n",
       "9       433\n",
       "12      184\n",
       "11      109\n",
       "16      104\n",
       "14       84\n",
       "13       48\n",
       "15       22\n",
       "20        1\n",
       "0         1\n",
       "Name: accommodates, dtype: int64"
      ]
     },
     "execution_count": 42,
     "metadata": {},
     "output_type": "execute_result"
    }
   ],
   "source": [
    "df['accommodates'].value_counts()"
   ]
  },
  {
   "cell_type": "code",
   "execution_count": 45,
   "metadata": {},
   "outputs": [
    {
     "data": {
      "text/plain": [
       "'{TV,\"Cable TV\",Wifi,Kitchen,\"Paid parking off premises\",\"Smoking allowed\",\"Free street parking\",\"Buzzer/wireless intercom\",Heating,\"Family/kid friendly\",Washer,Dryer,\"Smoke detector\",\"Carbon monoxide detector\",\"Fire extinguisher\",Essentials,Shampoo,\"Lock on bedroom door\",Hangers,\"Hair dryer\",Iron,\"Laptop friendly workspace\",\"Outlet covers\",Bathtub,\"Children’s books and toys\",\"Babysitter recommendations\",Crib,\"Pack ’n Play/travel crib\",\"Room-darkening shades\",\"Children’s dinnerware\",\"Hot water\",\"Bed linens\",\"Extra pillows and blankets\",\"Ethernet connection\",\"Coffee maker\",Refrigerator,\"Dishes and silverware\",\"Cooking basics\",Oven,Stove,\"Patio or balcony\",\"Luggage dropoff allowed\",\"Long term stays allowed\",\"No stairs or steps to enter\",\"Wide entrance\",\"Extra space around bed\",\"Accessible-height bed\",\"No stairs or steps to enter\",\"Wide doorway to guest bathroom\",\"Bathtub with bath chair\",\"Accessible-height toilet\",\"Host greets you\",\"Handheld shower head\",\"Roll-in shower\"}'"
      ]
     },
     "execution_count": 45,
     "metadata": {},
     "output_type": "execute_result"
    }
   ],
   "source": [
    "df['amenities'][0]"
   ]
  },
  {
   "cell_type": "code",
   "execution_count": 46,
   "metadata": {},
   "outputs": [
    {
     "data": {
      "text/plain": [
       "0        1\n",
       "1        2\n",
       "2        4\n",
       "3        2\n",
       "4        2\n",
       "        ..\n",
       "85913    1\n",
       "85914    1\n",
       "85915    1\n",
       "85916    1\n",
       "85917    1\n",
       "Name: guests_included, Length: 85918, dtype: int64"
      ]
     },
     "execution_count": 46,
     "metadata": {},
     "output_type": "execute_result"
    }
   ],
   "source": [
    "df['guests_included']"
   ]
  },
  {
   "cell_type": "code",
   "execution_count": 47,
   "metadata": {},
   "outputs": [
    {
     "data": {
      "text/plain": [
       "0        $15.00\n",
       "1         $0.00\n",
       "2        $10.00\n",
       "3         $0.00\n",
       "4        $11.00\n",
       "          ...  \n",
       "85913     $0.00\n",
       "85914     $0.00\n",
       "85915     $0.00\n",
       "85916     $0.00\n",
       "85917    $50.00\n",
       "Name: extra_people, Length: 85918, dtype: object"
      ]
     },
     "execution_count": 47,
     "metadata": {},
     "output_type": "execute_result"
    }
   ],
   "source": [
    "df['extra_people']"
   ]
  },
  {
   "cell_type": "code",
   "execution_count": 48,
   "metadata": {},
   "outputs": [
    {
     "data": {
      "text/plain": [
       "0         1\n",
       "1        30\n",
       "2         3\n",
       "3        30\n",
       "4         4\n",
       "         ..\n",
       "85913     2\n",
       "85914     2\n",
       "85915     1\n",
       "85916     2\n",
       "85917     1\n",
       "Name: minimum_nights, Length: 85918, dtype: int64"
      ]
     },
     "execution_count": 48,
     "metadata": {},
     "output_type": "execute_result"
    }
   ],
   "source": [
    "df['minimum_nights']"
   ]
  },
  {
   "cell_type": "code",
   "execution_count": null,
   "metadata": {},
   "outputs": [],
   "source": []
  }
 ],
 "metadata": {
  "kernelspec": {
   "display_name": "Python 3",
   "language": "python",
   "name": "python3"
  },
  "language_info": {
   "codemirror_mode": {
    "name": "ipython",
    "version": 3
   },
   "file_extension": ".py",
   "mimetype": "text/x-python",
   "name": "python",
   "nbconvert_exporter": "python",
   "pygments_lexer": "ipython3",
   "version": "3.8.5"
  }
 },
 "nbformat": 4,
 "nbformat_minor": 4
}
